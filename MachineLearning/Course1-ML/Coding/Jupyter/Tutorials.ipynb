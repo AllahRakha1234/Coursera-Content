{
 "cells": [
  {
   "cell_type": "markdown",
   "id": "21f5355c-0c30-4eec-bc57-9cfb1fdd2161",
   "metadata": {},
   "source": [
    "# Python"
   ]
  },
  {
   "cell_type": "markdown",
   "id": "3182639a-b44b-45df-a8fe-85f4fcb49e84",
   "metadata": {},
   "source": [
    "## Number"
   ]
  },
  {
   "cell_type": "code",
   "execution_count": 1,
   "id": "20a894ab-8daa-41a8-a871-ba6c4559136a",
   "metadata": {},
   "outputs": [
    {
     "name": "stdout",
     "output_type": "stream",
     "text": [
      "4\n"
     ]
    }
   ],
   "source": [
    "print(4)"
   ]
  },
  {
   "cell_type": "markdown",
   "id": "ef2cc2d0-d181-4a1c-8ccd-c2fe9ac63b9e",
   "metadata": {},
   "source": [
    "## String"
   ]
  },
  {
   "cell_type": "code",
   "execution_count": 1,
   "id": "be671560-0636-4108-88d2-bb95a0c7a682",
   "metadata": {},
   "outputs": [
    {
     "name": "stdout",
     "output_type": "stream",
     "text": [
      "Hi\n",
      "Ali\n"
     ]
    }
   ],
   "source": [
    "print(\"Hi\")\n",
    "print(\"Ali\")"
   ]
  },
  {
   "cell_type": "markdown",
   "id": "ce8d03ef-b45d-442b-945c-56aa28498994",
   "metadata": {},
   "source": [
    "## Calculations"
   ]
  },
  {
   "cell_type": "code",
   "execution_count": 3,
   "id": "c063b1e5-a7a5-49ff-99dd-c5dcd07b1553",
   "metadata": {},
   "outputs": [
    {
     "name": "stdout",
     "output_type": "stream",
     "text": [
      "10\n"
     ]
    }
   ],
   "source": [
    "print(3+3+4)"
   ]
  },
  {
   "cell_type": "code",
   "execution_count": null,
   "id": "3eea0a47-5a2c-4d4e-9424-b700a2b218f7",
   "metadata": {},
   "outputs": [],
   "source": []
  }
 ],
 "metadata": {
  "kernelspec": {
   "display_name": "Python 3 (ipykernel)",
   "language": "python",
   "name": "python3"
  },
  "language_info": {
   "codemirror_mode": {
    "name": "ipython",
    "version": 3
   },
   "file_extension": ".py",
   "mimetype": "text/x-python",
   "name": "python",
   "nbconvert_exporter": "python",
   "pygments_lexer": "ipython3",
   "version": "3.11.5"
  }
 },
 "nbformat": 4,
 "nbformat_minor": 5
}
